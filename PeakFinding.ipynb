{
  "nbformat": 4,
  "nbformat_minor": 0,
  "metadata": {
    "colab": {
      "name": "PeakFinding.ipynb",
      "provenance": [],
      "collapsed_sections": [],
      "authorship_tag": "ABX9TyM02mIA8zE+RaDCS3339EEj"
    },
    "kernelspec": {
      "name": "python3",
      "display_name": "Python 3"
    },
    "language_info": {
      "name": "python"
    }
  },
  "cells": [
    {
      "cell_type": "code",
      "metadata": {
        "id": "j5kiej0xW35G"
      },
      "source": [
        "import numpy as np\n",
        "import time"
      ],
      "execution_count": 1,
      "outputs": []
    },
    {
      "cell_type": "code",
      "metadata": {
        "id": "yv4vJLcjXOay"
      },
      "source": [
        "#Setup an input matrix\n",
        "n = 10\n",
        "A = np.random.randint(0,100,(n,n))"
      ],
      "execution_count": 2,
      "outputs": []
    },
    {
      "cell_type": "code",
      "metadata": {
        "colab": {
          "base_uri": "https://localhost:8080/"
        },
        "id": "KgDj30SKbAwi",
        "outputId": "c67320b7-1dd4-4784-86eb-b19cb4db8b6f"
      },
      "source": [
        "A"
      ],
      "execution_count": 3,
      "outputs": [
        {
          "output_type": "execute_result",
          "data": {
            "text/plain": [
              "array([[16, 99, 28,  4, 16, 49, 86, 12, 65, 21],\n",
              "       [57, 55, 90,  1, 22, 34, 91, 75, 24, 37],\n",
              "       [56, 19, 69, 18, 54,  3, 37, 22, 15, 91],\n",
              "       [40, 31, 46,  5, 82, 53, 48, 21,  4, 56],\n",
              "       [44, 76, 90, 53, 35, 81, 93, 17, 21, 33],\n",
              "       [81, 35, 34, 40, 53, 85, 81, 91, 49, 79],\n",
              "       [36, 67, 64,  9, 47, 69, 96, 79, 25, 31],\n",
              "       [57, 34, 18, 81, 71, 10, 49, 27, 63,  7],\n",
              "       [42, 81, 93, 78, 77, 88, 56, 16,  8, 74],\n",
              "       [10, 31, 33, 24, 48, 55, 89, 57, 78,  5]])"
            ]
          },
          "metadata": {
            "tags": []
          },
          "execution_count": 3
        }
      ]
    },
    {
      "cell_type": "code",
      "metadata": {
        "id": "HYRsB1yVbbyi"
      },
      "source": [
        "def binarypeak(a,n):\n",
        "  if n == 1:\n",
        "    return a[0]\n",
        "  \n",
        "  if n % 2 == 0:\n",
        "    mid = int(n/2)\n",
        "  else:\n",
        "    mid = int((n+1)/2)\n",
        "  \n",
        "  #print('Arguments',mid,a[mid-2],a[mid-1],a[mid])\n",
        "  if a[mid-1] < a[mid - 2]:\n",
        "    #print('Passing to next level',a[:mid])\n",
        "    return binarypeak(a[:mid],len(a[:mid]))\n",
        "  elif a[mid-1] < a[mid]:\n",
        "    #print('Passing to next level',a[mid:])\n",
        "    return binarypeak(a[mid:],len(a[mid:]))\n",
        "  else:\n",
        "    return a[mid-1]"
      ],
      "execution_count": 4,
      "outputs": []
    },
    {
      "cell_type": "code",
      "metadata": {
        "colab": {
          "base_uri": "https://localhost:8080/"
        },
        "id": "oOjQ08IrFjE0",
        "outputId": "f8f76bed-0d8e-42fd-dfe4-60bf0487568a"
      },
      "source": [
        "#Verify Function to use binary partions and find a peak\n",
        "binarypeak(A[5,:],10)"
      ],
      "execution_count": 5,
      "outputs": [
        {
          "output_type": "execute_result",
          "data": {
            "text/plain": [
              "91"
            ]
          },
          "metadata": {
            "tags": []
          },
          "execution_count": 5
        }
      ]
    },
    {
      "cell_type": "code",
      "metadata": {
        "id": "HmjJFTYmdT9e"
      },
      "source": [
        "size=1000\n",
        "B = np.zeros((200,size))\n",
        "#Plot performance of binary search\n",
        "for i in range(size-1):\n",
        "  count = 0\n",
        "  for n in range(10,10000,50):\n",
        "    A = np.random.randint(0,100,n)\n",
        "    start = time.time()\n",
        "    #print(A,n)\n",
        "    binarypeak(A,n)\n",
        "    end = time.time()\n",
        "    B[count,0] = n\n",
        "    B[count,i+1] = end-start\n",
        "    count = count+1"
      ],
      "execution_count": 6,
      "outputs": []
    },
    {
      "cell_type": "code",
      "metadata": {
        "colab": {
          "base_uri": "https://localhost:8080/"
        },
        "id": "ERVjBMsfIyg5",
        "outputId": "eab80cac-4b2d-48cc-8e34-d4e36ba1415e"
      },
      "source": [
        "B.shape"
      ],
      "execution_count": 7,
      "outputs": [
        {
          "output_type": "execute_result",
          "data": {
            "text/plain": [
              "(200, 1000)"
            ]
          },
          "metadata": {
            "tags": []
          },
          "execution_count": 7
        }
      ]
    },
    {
      "cell_type": "code",
      "metadata": {
        "id": "lUMfP1AFI0dT"
      },
      "source": [
        "C = np.zeros((200,2))\n",
        "C[:,0] = B[:,0]\n",
        "C[:,1] = np.mean(B[:,1:size-1],axis=1)*1000"
      ],
      "execution_count": 8,
      "outputs": []
    },
    {
      "cell_type": "code",
      "metadata": {
        "colab": {
          "base_uri": "https://localhost:8080/",
          "height": 296
        },
        "id": "Lr2mgEwX6N1-",
        "outputId": "9b5d7209-95e4-4aeb-8512-0e48337f11b5"
      },
      "source": [
        "#Plot Performance vs Input Size\n",
        "import matplotlib.pyplot as plt\n",
        "plt.plot(C[:,0],C[:,1])\n",
        "plt.xlabel('Input Size')\n",
        "plt.ylabel('Running time')"
      ],
      "execution_count": 9,
      "outputs": [
        {
          "output_type": "execute_result",
          "data": {
            "text/plain": [
              "Text(0, 0.5, 'Running time')"
            ]
          },
          "metadata": {
            "tags": []
          },
          "execution_count": 9
        },
        {
          "output_type": "display_data",
          "data": {
            "image/png": "[encoded data removed]",
            "text/plain": [
              "<Figure size 432x288 with 1 Axes>"
            ]
          },
          "metadata": {
            "tags": [],
            "needs_background": "light"
          }
        }
      ]
    }
  ]
}