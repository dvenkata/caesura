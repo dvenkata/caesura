{
  "nbformat": 4,
  "nbformat_minor": 0,
  "metadata": {
    "colab": {
      "name": "02. DocDistance(Simple).ipynb",
      "provenance": [],
      "collapsed_sections": [],
      "mount_file_id": "1b4TMZW2aPb-5-R_7KStfFWP-v1fnz4J4",
      "authorship_tag": "ABX9TyNhtjKhINE/NT/9Zq1SOg7z"
    },
    "kernelspec": {
      "name": "python3",
      "display_name": "Python 3"
    },
    "language_info": {
      "name": "python"
    }
  },
  "cells": [
    {
      "cell_type": "code",
      "metadata": {
        "colab": {
          "base_uri": "https://localhost:8080/"
        },
        "id": "WHcvBe5l61Or",
        "outputId": "d563b56f-1061-4b4e-f880-346c21eef30c"
      },
      "source": [
        "import math\n",
        "from google.colab import drive\n",
        "drive.mount('/content/drive')"
      ],
      "execution_count": null,
      "outputs": [
        {
          "output_type": "stream",
          "text": [
            "Drive already mounted at /content/drive; to attempt to forcibly remount, call drive.mount(\"/content/drive\", force_remount=True).\n"
          ],
          "name": "stdout"
        }
      ]
    },
    {
      "cell_type": "code",
      "metadata": {
        "id": "5sl4nP567hRh"
      },
      "source": [
        "def read_file(filename):\n",
        "    try:\n",
        "        f = open(filename, 'r')\n",
        "        return f.readlines()\n",
        "    except IOError:\n",
        "        print(\"Error opening or reading input file: \",filename)"
      ],
      "execution_count": null,
      "outputs": []
    },
    {
      "cell_type": "code",
      "metadata": {
        "id": "iKYmwKdC_RDj"
      },
      "source": [
        "A = read_file('/content/drive/MyDrive/Colab Notebooks/Algorithms/A.txt')\n",
        "B = read_file('/content/drive/MyDrive/Colab Notebooks/Algorithms/B.txt')"
      ],
      "execution_count": null,
      "outputs": []
    },
    {
      "cell_type": "code",
      "metadata": {
        "id": "jtgyAgc9Bv2z"
      },
      "source": [
        "def get_words_from_line_list(L):\n",
        "    word_list = []\n",
        "    for line in L:\n",
        "        words_in_line = get_words_from_string(line)\n",
        "        word_list = word_list + words_in_line\n",
        "    return word_list\n",
        "def get_words_from_string(line):\n",
        "    word_list = []          # accumulates words in line\n",
        "    character_list = []     # accumulates characters in word\n",
        "    for c in line:\n",
        "        if c.isalnum():\n",
        "            character_list.append(c)\n",
        "        elif len(character_list)>0:\n",
        "            word = \"\".join(character_list)\n",
        "            word = word.lower()\n",
        "            word_list.append(word)\n",
        "            character_list = []\n",
        "    if len(character_list)>0:\n",
        "        word = \"\".join(character_list)\n",
        "        word = word.lower()\n",
        "        word_list.append(word)\n",
        "    return word_list"
      ],
      "execution_count": null,
      "outputs": []
    },
    {
      "cell_type": "code",
      "metadata": {
        "id": "Eg4UUTB-CCp1"
      },
      "source": [
        "def count_frequency(word_list):\n",
        "    L = []\n",
        "    for new_word in word_list:\n",
        "        for entry in L:\n",
        "            if new_word == entry[0]:\n",
        "                entry[1] = entry[1] + 1\n",
        "                break\n",
        "        else:\n",
        "            L.append([new_word,1])\n",
        "    return L"
      ],
      "execution_count": null,
      "outputs": []
    },
    {
      "cell_type": "code",
      "metadata": {
        "id": "mZqOrYW7GETV"
      },
      "source": [
        "def insertion_sort(A):\n",
        "    for j in range(len(A)):\n",
        "        key = A[j]\n",
        "        # insert A[j] into sorted sequence A[0..j-1]\n",
        "        i = j-1\n",
        "        while i>-1 and A[i]>key:\n",
        "            A[i+1] = A[i]\n",
        "            i = i-1\n",
        "        A[i+1] = key\n",
        "    return A"
      ],
      "execution_count": null,
      "outputs": []
    },
    {
      "cell_type": "code",
      "metadata": {
        "id": "dFenVqjUFwln"
      },
      "source": [
        "A = insertion_sort(count_frequency(get_words_from_line_list(A)))\n",
        "B = insertion_sort(count_frequency(get_words_from_line_list(B)))"
      ],
      "execution_count": null,
      "outputs": []
    },
    {
      "cell_type": "code",
      "metadata": {
        "id": "HNET7I8IGfxG"
      },
      "source": [
        "def inner_product(L1,L2):\n",
        "    sum = 0.0\n",
        "    for word1, count1 in L1:\n",
        "        for word2, count2 in L2:\n",
        "            if word1 == word2:\n",
        "                sum += count1 * count2\n",
        "    return sum\n",
        "\n",
        "def vector_angle(L1,L2):\n",
        "    numerator = inner_product(L1,L2)\n",
        "    denominator = math.sqrt(inner_product(L1,L1)*inner_product(L2,L2))\n",
        "    return math.acos(numerator/denominator)"
      ],
      "execution_count": null,
      "outputs": []
    },
    {
      "cell_type": "code",
      "metadata": {
        "colab": {
          "base_uri": "https://localhost:8080/"
        },
        "id": "2KkUwyREGrs4",
        "outputId": "63a73cb5-0237-4b31-f145-9b506f75f8e7"
      },
      "source": [
        "distance = vector_angle(A,B)\n",
        "print(\"The distance between the documents is: %0.6f (radians)\"%distance)"
      ],
      "execution_count": null,
      "outputs": [
        {
          "output_type": "stream",
          "text": [
            "The distance between the documents is: 0.878019 (radians)\n"
          ],
          "name": "stdout"
        }
      ]
    }
  ]
}