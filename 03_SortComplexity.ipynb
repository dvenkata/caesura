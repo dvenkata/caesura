{
  "nbformat": 4,
  "nbformat_minor": 0,
  "metadata": {
    "colab": {
      "name": "03.SortComplexity.ipynb",
      "provenance": [],
      "collapsed_sections": [],
      "authorship_tag": "ABX9TyNcip5Bbvp36N6u9/Bz2QUv"
    },
    "kernelspec": {
      "name": "python3",
      "display_name": "Python 3"
    },
    "language_info": {
      "name": "python"
    }
  },
  "cells": [
    {
      "cell_type": "code",
      "metadata": {
        "id": "92t_z2Z9Wk7i"
      },
      "source": [
        "import numpy as np\n",
        "import time"
      ],
      "execution_count": 1,
      "outputs": []
    },
    {
      "cell_type": "code",
      "metadata": {
        "id": "yLFiGUKzHoET"
      },
      "source": [
        "#test array\n",
        "A = np.random.randint(0,100,10)"
      ],
      "execution_count": 2,
      "outputs": []
    },
    {
      "cell_type": "code",
      "metadata": {
        "colab": {
          "base_uri": "https://localhost:8080/"
        },
        "id": "k7hAcg2x3_Hr",
        "outputId": "c6d8b324-3730-404b-8a7a-686148592296"
      },
      "source": [
        "A"
      ],
      "execution_count": 3,
      "outputs": [
        {
          "output_type": "execute_result",
          "data": {
            "text/plain": [
              "array([18, 70, 99, 95, 33, 96, 48,  6,  9, 80])"
            ]
          },
          "metadata": {
            "tags": []
          },
          "execution_count": 3
        }
      ]
    },
    {
      "cell_type": "code",
      "metadata": {
        "id": "0aKSlFAtH09u"
      },
      "source": [
        "#Insertion Sort\n",
        "def insertion_sort(Arr):\n",
        "  for j in range(len(Arr)):\n",
        "      key = Arr[j]\n",
        "      # insert A[j] into sorted sequence A[0..j-1]\n",
        "      i = j-1\n",
        "      while i>-1 and Arr[i]>key:\n",
        "          Arr[i+1] = Arr[i]\n",
        "          i = i-1\n",
        "      Arr[i+1] = key\n",
        "  return Arr"
      ],
      "execution_count": 4,
      "outputs": []
    },
    {
      "cell_type": "code",
      "metadata": {
        "id": "4b54jYQGJvS6"
      },
      "source": [
        "#Merge Sort\n",
        "def merge_sort(Arr):\n",
        "  n = len(Arr)\n",
        "  if n==1: \n",
        "      return Arr\n",
        "  mid = n//2     # floor division\n",
        "  #print('before call',A[:mid],A[mid:])\n",
        "  L = merge_sort(Arr[:mid])\n",
        "  R = merge_sort(Arr[mid:])\n",
        "  #print('after call',L,R)\n",
        "  return np.asarray(merge(L,R))\n",
        "\n",
        "def merge(L,R):\n",
        "  #print('Start',L,R)\n",
        "  i = 0\n",
        "  j = 0\n",
        "  answer = []\n",
        "  while i<len(L) and j<len(R):\n",
        "      if L[i]<R[j]:\n",
        "          answer.append(L[i])\n",
        "          i += 1\n",
        "      else:\n",
        "          answer.append(R[j])\n",
        "          j += 1\n",
        "  if i<len(L):\n",
        "      #print('before extend,i',answer)\n",
        "      answer.extend(L[i:])\n",
        "      #print('after extend,i',answer)\n",
        "  if j<len(R):\n",
        "      #print('before extend,j',answer)\n",
        "      answer.extend(R[j:])\n",
        "      #print('after extend,j',answer)\n",
        "  return answer"
      ],
      "execution_count": 5,
      "outputs": []
    },
    {
      "cell_type": "code",
      "metadata": {
        "id": "BKFdhWWV3WFN"
      },
      "source": [
        "#Heap Sort\n",
        "def max_heapify(arr, n, i): \n",
        "    largest = i # set largest as root\n",
        "    l = 2 * i + 1     # left = 2*i + 1 \n",
        "    r = 2 * i + 2     # right = 2*i + 2 \n",
        "  \n",
        "    # See if left child of root exists and is \n",
        "    # greater than root \n",
        "    if (l < n and arr[i] < arr[l]): \n",
        "        largest = l \n",
        "  \n",
        "    # See if right child of root exists and is \n",
        "    # greater than root \n",
        "    if (r < n and arr[largest] < arr[r]): \n",
        "        largest = r \n",
        "  \n",
        "    # Change root, if needed \n",
        "    if (largest != i):\n",
        "        #print('swap',largest,i)\n",
        "        arr[i],arr[largest] = arr[largest],arr[i] # swap \n",
        "  \n",
        "        # Heapify the root. \n",
        "        max_heapify(arr, n, largest) \n",
        "  \n",
        "# function to sort an array of given size \n",
        "def heap_sort(arr): \n",
        "    n = len(arr) \n",
        "  \n",
        "    # Build a heap. \n",
        "    for i in range(int((n-1)/2), -1, -1):\n",
        "        #print('before',arr,i)\n",
        "        max_heapify(arr, n, i)\n",
        "        #print('after',arr,i)\n",
        " \n",
        "    # One by one extract elements \n",
        "    for i in range(n-1, 0, -1): \n",
        "        #print('before push',arr,i)\n",
        "        arr[i], arr[0] = arr[0], arr[i] # swap\n",
        "        #print('after push',arr,i)\n",
        "        #print('before',arr,i)\n",
        "        max_heapify(arr, i, 0)\n",
        "        #print('after',arr,i)\n",
        "\n",
        "    return arr"
      ],
      "execution_count": 6,
      "outputs": []
    },
    {
      "cell_type": "code",
      "metadata": {
        "colab": {
          "base_uri": "https://localhost:8080/"
        },
        "id": "63_Qfds9Jmu8",
        "outputId": "6fff0268-d701-4bc6-995c-29072951dd07"
      },
      "source": [
        "#Test basic running\n",
        "print(A)\n",
        "print(heap_sort(A))\n",
        "print(insertion_sort(A),merge_sort(A))"
      ],
      "execution_count": 7,
      "outputs": [
        {
          "output_type": "stream",
          "text": [
            "[18 70 99 95 33 96 48  6  9 80]\n",
            "[ 6  9 18 33 48 70 80 95 96 99]\n",
            "[ 6  9 18 33 48 70 80 95 96 99] [ 6  9 18 33 48 70 80 95 96 99]\n"
          ],
          "name": "stdout"
        }
      ]
    },
    {
      "cell_type": "code",
      "metadata": {
        "id": "OzdLjsl2KwF4"
      },
      "source": [
        "#Performance plots\n",
        "def method(method,size,max_input_size):\n",
        "  variants = len(range(10,max_input_size,1))\n",
        "  B = np.zeros((variants,size))\n",
        "  #Plot performance of binary search\n",
        "  for i in range(size-1):\n",
        "    count = 0\n",
        "    for n in range(10,max_input_size,1):\n",
        "      A = np.random.randint(0,100,n)\n",
        "      start = time.time()\n",
        "      method(A)\n",
        "      end = time.time()\n",
        "      B[count,0] = n\n",
        "      B[count,i+1] = end-start\n",
        "      count = count+1\n",
        "  return B"
      ],
      "execution_count": 8,
      "outputs": []
    },
    {
      "cell_type": "code",
      "metadata": {
        "id": "H8iNHPribria"
      },
      "source": [
        "size=10\n",
        "max_input_size = 500\n",
        "B1 = method(insertion_sort,size,max_input_size)\n",
        "B2 = method(merge_sort,size,max_input_size)\n",
        "B3 = method(heap_sort,size,max_input_size)\n",
        "variants = len(range(10,max_input_size,1))"
      ],
      "execution_count": 9,
      "outputs": []
    },
    {
      "cell_type": "code",
      "metadata": {
        "id": "9Kv5t4kbVRO7"
      },
      "source": [
        "C = np.zeros((variants,4))\n",
        "C[:,0] = B1[:,0]\n",
        "C[:,1] = np.mean(B1[:,1:size-1],axis=1)*1000\n",
        "C[:,2] = np.mean(B2[:,1:size-1],axis=1)*1000\n",
        "C[:,3] = np.mean(B3[:,1:size-1],axis=1)*1000"
      ],
      "execution_count": 10,
      "outputs": []
    },
    {
      "cell_type": "code",
      "metadata": {
        "id": "3cl_8RR1VY6x",
        "colab": {
          "base_uri": "https://localhost:8080/",
          "height": 532
        },
        "outputId": "3ada523f-5ac9-4c3b-b7f6-884ca270307b"
      },
      "source": [
        "#Plot Performance vs Input Size\n",
        "import matplotlib.pyplot as plt\n",
        "\n",
        "plt.figure(figsize = (8,8))\n",
        "plt.plot(C[:,0],C[:,1],label = 'insertion sort')\n",
        "plt.plot(C[:,0],C[:,2],label = 'merge sort')\n",
        "plt.plot(C[:,0],C[:,3],label = 'heap sort')\n",
        "plt.xlabel('Input Size')\n",
        "plt.ylabel('Running time*1000')\n",
        "plt.legend(loc=\"upper right\")\n",
        "plt.title('Insertion Sort (Quadratic) vs Merge Sort/Heap Sort (nLog(n)) Performance',fontsize=16)"
      ],
      "execution_count": 12,
      "outputs": [
        {
          "output_type": "execute_result",
          "data": {
            "text/plain": [
              "Text(0.5, 1.0, 'Insertion Sort (Quadratic) vs Merge Sort (nLog(n)) Performance')"
            ]
          },
          "metadata": {
            "tags": []
          },
          "execution_count": 12
        },
        {
          "output_type": "display_data",
          "data": {
            "image/png": "[encoded data removed]",
            "text/plain": [
              "<Figure size 576x576 with 1 Axes>"
            ]
          },
          "metadata": {
            "tags": [],
            "needs_background": "light"
          }
        }
      ]
    }
  ]
}